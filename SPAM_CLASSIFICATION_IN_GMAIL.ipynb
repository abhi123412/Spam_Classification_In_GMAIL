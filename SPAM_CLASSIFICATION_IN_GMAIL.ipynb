{
  "nbformat": 4,
  "nbformat_minor": 0,
  "metadata": {
    "colab": {
      "name": "SPAM CLASSIFICATION IN GMAIL.ipynb",
      "provenance": [],
      "authorship_tag": "ABX9TyPt6CQpAGeMxpIZAWChm693",
      "include_colab_link": true
    },
    "kernelspec": {
      "name": "python3",
      "display_name": "Python 3"
    },
    "language_info": {
      "name": "python"
    }
  },
  "cells": [
    {
      "cell_type": "markdown",
      "metadata": {
        "id": "view-in-github",
        "colab_type": "text"
      },
      "source": [
        "<a href=\"https://colab.research.google.com/github/abhi123412/Spam_Classification_In_GMAIL/blob/main/SPAM_CLASSIFICATION_IN_GMAIL.ipynb\" target=\"_parent\"><img src=\"https://colab.research.google.com/assets/colab-badge.svg\" alt=\"Open In Colab\"/></a>"
      ]
    },
    {
      "cell_type": "markdown",
      "metadata": {
        "id": "nhnYn-FiT5xG"
      },
      "source": [
        "# Demo1 - Understanding the data set"
      ]
    },
    {
      "cell_type": "code",
      "metadata": {
        "id": "kYjoeOwsTtRo"
      },
      "source": [
        "import pandas as pd\n",
        "# import numpy as np\n",
        "import spacy"
      ],
      "execution_count": 54,
      "outputs": []
    },
    {
      "cell_type": "code",
      "metadata": {
        "id": "VuW4KSRYUHuf"
      },
      "source": [
        "nlp = spacy.load('en_core_web_sm')"
      ],
      "execution_count": 55,
      "outputs": []
    },
    {
      "cell_type": "code",
      "metadata": {
        "id": "eCcHOZxoUeN9"
      },
      "source": [
        "data = pd.read_csv('spam.csv',encoding='cp1252')"
      ],
      "execution_count": 56,
      "outputs": []
    },
    {
      "cell_type": "code",
      "metadata": {
        "colab": {
          "base_uri": "https://localhost:8080/",
          "height": 203
        },
        "id": "c38GAyekUtUs",
        "outputId": "edbe0c1f-c06e-456c-a0cf-321d3b515077"
      },
      "source": [
        "data.head()"
      ],
      "execution_count": 57,
      "outputs": [
        {
          "output_type": "execute_result",
          "data": {
            "text/html": [
              "<div>\n",
              "<style scoped>\n",
              "    .dataframe tbody tr th:only-of-type {\n",
              "        vertical-align: middle;\n",
              "    }\n",
              "\n",
              "    .dataframe tbody tr th {\n",
              "        vertical-align: top;\n",
              "    }\n",
              "\n",
              "    .dataframe thead th {\n",
              "        text-align: right;\n",
              "    }\n",
              "</style>\n",
              "<table border=\"1\" class=\"dataframe\">\n",
              "  <thead>\n",
              "    <tr style=\"text-align: right;\">\n",
              "      <th></th>\n",
              "      <th>v1</th>\n",
              "      <th>v2</th>\n",
              "      <th>Unnamed: 2</th>\n",
              "      <th>Unnamed: 3</th>\n",
              "      <th>Unnamed: 4</th>\n",
              "    </tr>\n",
              "  </thead>\n",
              "  <tbody>\n",
              "    <tr>\n",
              "      <th>0</th>\n",
              "      <td>ham</td>\n",
              "      <td>Go until jurong point, crazy.. Available only ...</td>\n",
              "      <td>NaN</td>\n",
              "      <td>NaN</td>\n",
              "      <td>NaN</td>\n",
              "    </tr>\n",
              "    <tr>\n",
              "      <th>1</th>\n",
              "      <td>ham</td>\n",
              "      <td>Ok lar... Joking wif u oni...</td>\n",
              "      <td>NaN</td>\n",
              "      <td>NaN</td>\n",
              "      <td>NaN</td>\n",
              "    </tr>\n",
              "    <tr>\n",
              "      <th>2</th>\n",
              "      <td>spam</td>\n",
              "      <td>Free entry in 2 a wkly comp to win FA Cup fina...</td>\n",
              "      <td>NaN</td>\n",
              "      <td>NaN</td>\n",
              "      <td>NaN</td>\n",
              "    </tr>\n",
              "    <tr>\n",
              "      <th>3</th>\n",
              "      <td>ham</td>\n",
              "      <td>U dun say so early hor... U c already then say...</td>\n",
              "      <td>NaN</td>\n",
              "      <td>NaN</td>\n",
              "      <td>NaN</td>\n",
              "    </tr>\n",
              "    <tr>\n",
              "      <th>4</th>\n",
              "      <td>ham</td>\n",
              "      <td>Nah I don't think he goes to usf, he lives aro...</td>\n",
              "      <td>NaN</td>\n",
              "      <td>NaN</td>\n",
              "      <td>NaN</td>\n",
              "    </tr>\n",
              "  </tbody>\n",
              "</table>\n",
              "</div>"
            ],
            "text/plain": [
              "     v1  ... Unnamed: 4\n",
              "0   ham  ...        NaN\n",
              "1   ham  ...        NaN\n",
              "2  spam  ...        NaN\n",
              "3   ham  ...        NaN\n",
              "4   ham  ...        NaN\n",
              "\n",
              "[5 rows x 5 columns]"
            ]
          },
          "metadata": {},
          "execution_count": 57
        }
      ]
    },
    {
      "cell_type": "code",
      "metadata": {
        "id": "Ar23JKVJU3H2"
      },
      "source": [
        "data = data[['v1','v2']]"
      ],
      "execution_count": 58,
      "outputs": []
    },
    {
      "cell_type": "code",
      "metadata": {
        "id": "LzPgYh11Vmv7"
      },
      "source": [
        "data['v1'] = data['v1'].apply(lambda x:0 if x=='ham' else 1)"
      ],
      "execution_count": 59,
      "outputs": []
    },
    {
      "cell_type": "code",
      "metadata": {
        "colab": {
          "base_uri": "https://localhost:8080/",
          "height": 417
        },
        "id": "cuIfsxqiVEoA",
        "outputId": "fa8beaf9-1ec3-4352-b086-1a0a50432938"
      },
      "source": [
        "data"
      ],
      "execution_count": 60,
      "outputs": [
        {
          "output_type": "execute_result",
          "data": {
            "text/html": [
              "<div>\n",
              "<style scoped>\n",
              "    .dataframe tbody tr th:only-of-type {\n",
              "        vertical-align: middle;\n",
              "    }\n",
              "\n",
              "    .dataframe tbody tr th {\n",
              "        vertical-align: top;\n",
              "    }\n",
              "\n",
              "    .dataframe thead th {\n",
              "        text-align: right;\n",
              "    }\n",
              "</style>\n",
              "<table border=\"1\" class=\"dataframe\">\n",
              "  <thead>\n",
              "    <tr style=\"text-align: right;\">\n",
              "      <th></th>\n",
              "      <th>v1</th>\n",
              "      <th>v2</th>\n",
              "    </tr>\n",
              "  </thead>\n",
              "  <tbody>\n",
              "    <tr>\n",
              "      <th>0</th>\n",
              "      <td>0</td>\n",
              "      <td>Go until jurong point, crazy.. Available only ...</td>\n",
              "    </tr>\n",
              "    <tr>\n",
              "      <th>1</th>\n",
              "      <td>0</td>\n",
              "      <td>Ok lar... Joking wif u oni...</td>\n",
              "    </tr>\n",
              "    <tr>\n",
              "      <th>2</th>\n",
              "      <td>1</td>\n",
              "      <td>Free entry in 2 a wkly comp to win FA Cup fina...</td>\n",
              "    </tr>\n",
              "    <tr>\n",
              "      <th>3</th>\n",
              "      <td>0</td>\n",
              "      <td>U dun say so early hor... U c already then say...</td>\n",
              "    </tr>\n",
              "    <tr>\n",
              "      <th>4</th>\n",
              "      <td>0</td>\n",
              "      <td>Nah I don't think he goes to usf, he lives aro...</td>\n",
              "    </tr>\n",
              "    <tr>\n",
              "      <th>...</th>\n",
              "      <td>...</td>\n",
              "      <td>...</td>\n",
              "    </tr>\n",
              "    <tr>\n",
              "      <th>5567</th>\n",
              "      <td>1</td>\n",
              "      <td>This is the 2nd time we have tried 2 contact u...</td>\n",
              "    </tr>\n",
              "    <tr>\n",
              "      <th>5568</th>\n",
              "      <td>0</td>\n",
              "      <td>Will Ì_ b going to esplanade fr home?</td>\n",
              "    </tr>\n",
              "    <tr>\n",
              "      <th>5569</th>\n",
              "      <td>0</td>\n",
              "      <td>Pity, * was in mood for that. So...any other s...</td>\n",
              "    </tr>\n",
              "    <tr>\n",
              "      <th>5570</th>\n",
              "      <td>0</td>\n",
              "      <td>The guy did some bitching but I acted like i'd...</td>\n",
              "    </tr>\n",
              "    <tr>\n",
              "      <th>5571</th>\n",
              "      <td>0</td>\n",
              "      <td>Rofl. Its true to its name</td>\n",
              "    </tr>\n",
              "  </tbody>\n",
              "</table>\n",
              "<p>5572 rows × 2 columns</p>\n",
              "</div>"
            ],
            "text/plain": [
              "      v1                                                 v2\n",
              "0      0  Go until jurong point, crazy.. Available only ...\n",
              "1      0                      Ok lar... Joking wif u oni...\n",
              "2      1  Free entry in 2 a wkly comp to win FA Cup fina...\n",
              "3      0  U dun say so early hor... U c already then say...\n",
              "4      0  Nah I don't think he goes to usf, he lives aro...\n",
              "...   ..                                                ...\n",
              "5567   1  This is the 2nd time we have tried 2 contact u...\n",
              "5568   0              Will Ì_ b going to esplanade fr home?\n",
              "5569   0  Pity, * was in mood for that. So...any other s...\n",
              "5570   0  The guy did some bitching but I acted like i'd...\n",
              "5571   0                         Rofl. Its true to its name\n",
              "\n",
              "[5572 rows x 2 columns]"
            ]
          },
          "metadata": {},
          "execution_count": 60
        }
      ]
    },
    {
      "cell_type": "markdown",
      "metadata": {
        "id": "tbwINTAlVRLo"
      },
      "source": [
        "#Demo 2 - Text Pre-Processing"
      ]
    },
    {
      "cell_type": "code",
      "metadata": {
        "id": "-jkWTnCOWffo"
      },
      "source": [
        "def process(x):\n",
        "  temp = []\n",
        "  document = nlp(x.lower())                      #tokenization\n",
        "  for i in document:\n",
        "    if i.is_stop!=True and i.is_punct!=True:   # Removing stop words \n",
        "      temp.append(i.lemma_)                    # Lemmatization\n",
        "    else:\n",
        "      pass\n",
        "    \n",
        "  return (' '.join(temp))\n",
        "# print(process(\"My name is Abhijeet. I am a cricketer\"))"
      ],
      "execution_count": 63,
      "outputs": []
    },
    {
      "cell_type": "code",
      "metadata": {
        "id": "ySL2oPCuXUz3"
      },
      "source": [
        "data['v2'] = data['v2'].apply(lambda x: process(x))"
      ],
      "execution_count": 64,
      "outputs": []
    },
    {
      "cell_type": "code",
      "metadata": {
        "colab": {
          "base_uri": "https://localhost:8080/",
          "height": 203
        },
        "id": "00q7XvqhYE1Q",
        "outputId": "dd5d9496-96db-47b9-a9d5-6ffadd0d790a"
      },
      "source": [
        "data.head()"
      ],
      "execution_count": 65,
      "outputs": [
        {
          "output_type": "execute_result",
          "data": {
            "text/html": [
              "<div>\n",
              "<style scoped>\n",
              "    .dataframe tbody tr th:only-of-type {\n",
              "        vertical-align: middle;\n",
              "    }\n",
              "\n",
              "    .dataframe tbody tr th {\n",
              "        vertical-align: top;\n",
              "    }\n",
              "\n",
              "    .dataframe thead th {\n",
              "        text-align: right;\n",
              "    }\n",
              "</style>\n",
              "<table border=\"1\" class=\"dataframe\">\n",
              "  <thead>\n",
              "    <tr style=\"text-align: right;\">\n",
              "      <th></th>\n",
              "      <th>v1</th>\n",
              "      <th>v2</th>\n",
              "    </tr>\n",
              "  </thead>\n",
              "  <tbody>\n",
              "    <tr>\n",
              "      <th>0</th>\n",
              "      <td>0</td>\n",
              "      <td>jurong point crazy available bugis n great wor...</td>\n",
              "    </tr>\n",
              "    <tr>\n",
              "      <th>1</th>\n",
              "      <td>0</td>\n",
              "      <td>ok lar joke wif u oni</td>\n",
              "    </tr>\n",
              "    <tr>\n",
              "      <th>2</th>\n",
              "      <td>1</td>\n",
              "      <td>free entry 2 wkly comp win fa cup final tkts 2...</td>\n",
              "    </tr>\n",
              "    <tr>\n",
              "      <th>3</th>\n",
              "      <td>0</td>\n",
              "      <td>u dun early hor u c</td>\n",
              "    </tr>\n",
              "    <tr>\n",
              "      <th>4</th>\n",
              "      <td>0</td>\n",
              "      <td>nah think go usf live</td>\n",
              "    </tr>\n",
              "  </tbody>\n",
              "</table>\n",
              "</div>"
            ],
            "text/plain": [
              "   v1                                                 v2\n",
              "0   0  jurong point crazy available bugis n great wor...\n",
              "1   0                              ok lar joke wif u oni\n",
              "2   1  free entry 2 wkly comp win fa cup final tkts 2...\n",
              "3   0                                u dun early hor u c\n",
              "4   0                              nah think go usf live"
            ]
          },
          "metadata": {},
          "execution_count": 65
        }
      ]
    },
    {
      "cell_type": "code",
      "metadata": {
        "id": "aZv10TzBah-_"
      },
      "source": [
        "from sklearn.feature_extraction.text import TfidfVectorizer"
      ],
      "execution_count": 68,
      "outputs": []
    },
    {
      "cell_type": "code",
      "metadata": {
        "id": "9Pam2Oa2a331"
      },
      "source": [
        "vectorizer = TfidfVectorizer(analyzer='word',stop_words='english')"
      ],
      "execution_count": 69,
      "outputs": []
    },
    {
      "cell_type": "code",
      "metadata": {
        "id": "8F8skyC0bKQs"
      },
      "source": [
        "text_vector = vectorizer.fit_transform(data['v2'].values.tolist())"
      ],
      "execution_count": 70,
      "outputs": []
    },
    {
      "cell_type": "code",
      "metadata": {
        "colab": {
          "base_uri": "https://localhost:8080/"
        },
        "id": "l6ibdMwxbaou",
        "outputId": "6c4c5b3a-69d0-46e4-feba-ad6602f4f33b"
      },
      "source": [
        "print(text_vector)"
      ],
      "execution_count": 71,
      "outputs": [
        {
          "output_type": "stream",
          "name": "stdout",
          "text": [
            "  (0, 7072)\t0.19863129993143025\n",
            "  (0, 1016)\t0.35890799882424634\n",
            "  (0, 1839)\t0.3032069277494209\n",
            "  (0, 1590)\t0.34261647990985794\n",
            "  (0, 3887)\t0.3032069277494209\n",
            "  (0, 7242)\t0.24060094265073245\n",
            "  (0, 3166)\t0.1975304138199145\n",
            "  (0, 1592)\t0.3032069277494209\n",
            "  (0, 1209)\t0.2684514781881452\n",
            "  (0, 2071)\t0.2729205052435625\n",
            "  (0, 5116)\t0.257424652517704\n",
            "  (0, 3779)\t0.35890799882424634\n",
            "  (1, 4789)\t0.5647537939557097\n",
            "  (1, 7165)\t0.4459451111953121\n",
            "  (1, 3746)\t0.47451057922863127\n",
            "  (1, 3921)\t0.4218684931830353\n",
            "  (1, 4765)\t0.2811632882742994\n",
            "  (2, 77)\t0.2395244966956236\n",
            "  (2, 1088)\t0.17132935684973827\n",
            "  (2, 5400)\t0.16473274253951514\n",
            "  (2, 6786)\t0.1254671678341206\n",
            "  (2, 6201)\t0.2005836640243086\n",
            "  (2, 5355)\t0.16820504287497096\n",
            "  (2, 5442)\t0.16539371122554727\n",
            "  (2, 775)\t0.22517546975215236\n",
            "  :\t:\n",
            "  (5567, 460)\t0.24331799189705156\n",
            "  (5567, 6755)\t0.1924906650388016\n",
            "  (5567, 4554)\t0.25504800078010476\n",
            "  (5567, 6610)\t0.1645623122369073\n",
            "  (5567, 5171)\t0.2459387918665145\n",
            "  (5567, 1845)\t0.19354805892700622\n",
            "  (5567, 5254)\t0.2027661466146115\n",
            "  (5567, 5400)\t0.23045936371388273\n",
            "  (5567, 7176)\t0.18351358884559557\n",
            "  (5568, 2626)\t0.6964402301279243\n",
            "  (5568, 2911)\t0.6009943905379231\n",
            "  (5568, 3381)\t0.39214378536617706\n",
            "  (5569, 5056)\t0.6198322100581006\n",
            "  (5569, 6315)\t0.5916968433151221\n",
            "  (5569, 4438)\t0.5154637494387073\n",
            "  (5570, 1414)\t0.5014777884908822\n",
            "  (5570, 885)\t0.45003672389238514\n",
            "  (5570, 3609)\t0.4236504621825172\n",
            "  (5570, 3212)\t0.3096047366352092\n",
            "  (5570, 1618)\t0.2972617049751718\n",
            "  (5570, 4001)\t0.23341155414760634\n",
            "  (5570, 7110)\t0.269327268387026\n",
            "  (5570, 2922)\t0.23509469452312493\n",
            "  (5571, 5605)\t0.7930026248542038\n",
            "  (5571, 6747)\t0.6092182178615007\n"
          ]
        }
      ]
    },
    {
      "cell_type": "markdown",
      "metadata": {
        "id": "xv3K3daSbuL2"
      },
      "source": [
        "#Demo 3 - Splitting Data Set"
      ]
    },
    {
      "cell_type": "code",
      "metadata": {
        "id": "3ThhSQARbywn"
      },
      "source": [
        "from sklearn.model_selection import train_test_split"
      ],
      "execution_count": 72,
      "outputs": []
    },
    {
      "cell_type": "code",
      "metadata": {
        "id": "lSZPB6PEb8l7"
      },
      "source": [
        "x_train, x_test , y_train , y_test = train_test_split(text_vector.toarray(),data['v1'], test_size=0.2,random_state=20)"
      ],
      "execution_count": 73,
      "outputs": []
    },
    {
      "cell_type": "markdown",
      "metadata": {
        "id": "D5uXTBRMc2Ma"
      },
      "source": [
        "#Demo 4 - Model Building"
      ]
    },
    {
      "cell_type": "code",
      "metadata": {
        "id": "l3slWpCzc6zL"
      },
      "source": [
        "from sklearn.naive_bayes import BernoulliNB"
      ],
      "execution_count": 74,
      "outputs": []
    },
    {
      "cell_type": "code",
      "metadata": {
        "colab": {
          "base_uri": "https://localhost:8080/"
        },
        "id": "zLKz6lr8dDeF",
        "outputId": "e08e7076-5557-48e6-c6ec-018b8848fd63"
      },
      "source": [
        "modelB = BernoulliNB()\n",
        "modelB.fit(x_train, y_train)\n",
        "print(modelB.score(x_train, y_train))"
      ],
      "execution_count": 75,
      "outputs": [
        {
          "output_type": "stream",
          "name": "stdout",
          "text": [
            "0.9845187345748261\n"
          ]
        }
      ]
    },
    {
      "cell_type": "code",
      "metadata": {
        "id": "WETMx4fCdZkp"
      },
      "source": [
        "y_predictedB = modelB.predict(x_test)"
      ],
      "execution_count": 76,
      "outputs": []
    },
    {
      "cell_type": "code",
      "metadata": {
        "colab": {
          "base_uri": "https://localhost:8080/"
        },
        "id": "IzA5SZjcdlcm",
        "outputId": "4ef209ea-5103-42ac-ff1a-27b8236ed71e"
      },
      "source": [
        "from sklearn.metrics import accuracy_score\n",
        "print(accuracy_score(y_test, y_predictedB))"
      ],
      "execution_count": 77,
      "outputs": [
        {
          "output_type": "stream",
          "name": "stdout",
          "text": [
            "0.9829596412556054\n"
          ]
        }
      ]
    },
    {
      "cell_type": "markdown",
      "metadata": {
        "id": "FWvMmuuseJcb"
      },
      "source": [
        "#Best model is BernoulliNB with 98% Accuracy"
      ]
    }
  ]
}